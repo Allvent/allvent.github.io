{
  "nbformat": 4,
  "nbformat_minor": 0,
  "metadata": {
    "colab": {
      "provenance": [],
      "gpuType": "T4",
      "authorship_tag": "ABX9TyMx6zZNeIX8wf+FtCyvbvG/",
      "include_colab_link": true
    },
    "kernelspec": {
      "name": "python3",
      "display_name": "Python 3"
    },
    "language_info": {
      "name": "python"
    },
    "accelerator": "GPU"
  },
  "cells": [
    {
      "cell_type": "markdown",
      "metadata": {
        "id": "view-in-github",
        "colab_type": "text"
      },
      "source": [
        "<a href=\"https://colab.research.google.com/github/Valent0296/allvent.github.io/blob/master/Human_Activity_Recognition_MLP.ipynb\" target=\"_parent\"><img src=\"https://colab.research.google.com/assets/colab-badge.svg\" alt=\"Open In Colab\"/></a>"
      ]
    },
    {
      "cell_type": "markdown",
      "source": [
        "Human activity recognition is the problem of classifying sequences of data recorded by specialized harnesses or smart phones into known well-defined Human activities.\n",
        "\n",
        "It is a challenging problem as the large number of observations are produced each second, the temporal nature of the observations, and the lack of a clear way to relate data to known movements increase the challenges."
      ],
      "metadata": {
        "id": "tygdalmHd84d"
      }
    },
    {
      "cell_type": "code",
      "execution_count": null,
      "metadata": {
        "id": "Ebd0sHi0dRWP",
        "colab": {
          "base_uri": "https://localhost:8080/"
        },
        "outputId": "86aa961c-f05d-4807-cc12-5ecc71200eaa"
      },
      "outputs": [
        {
          "output_type": "stream",
          "name": "stdout",
          "text": [
            "Mounted at /content/drive\n"
          ]
        }
      ],
      "source": [
        "import pandas as pd\n",
        "import numpy as np\n",
        "import seaborn as sns\n",
        "import matplotlib.pyplot as plt\n",
        "%matplotlib inline\n",
        "from google.colab import drive\n",
        "drive.mount('/content/drive')\n",
        "import sys\n",
        "sys.path.append(\"/MyDrive/dataset/\")\n",
        "import torch\n",
        "from torch import Tensor\n",
        "import torch.nn as nn\n",
        "from torchvision import datasets, transforms, models\n",
        "from torchvision.transforms import ToTensor, Lambda\n",
        "from torch.utils.data import DataLoader, Dataset\n",
        "\n",
        "device = torch.device(\"cuda\" if torch.cuda.is_available() else \"cpu\")"
      ]
    },
    {
      "cell_type": "code",
      "source": [
        "#carico i dati\n",
        "%cd /content/drive/MyDrive/dataset/\n",
        "train = pd.read_csv(\"train-1.csv\")\n",
        "test = pd.read_csv(\"test.csv\")"
      ],
      "metadata": {
        "colab": {
          "base_uri": "https://localhost:8080/"
        },
        "id": "8B1iom9QgT9O",
        "outputId": "538f8ab8-9670-4152-c45e-5b149755aa9b"
      },
      "execution_count": null,
      "outputs": [
        {
          "output_type": "stream",
          "name": "stdout",
          "text": [
            "/content/drive/MyDrive/dataset\n"
          ]
        }
      ]
    },
    {
      "cell_type": "code",
      "source": [
        "#Accorpo i dati per una base preliminare\n",
        "train['Data'] = 'Train'\n",
        "test['Data'] = 'Test'\n",
        "both = pd.concat( [train, test], axis=0 ).reset_index( drop=True )\n",
        "activity = dict(enumerate(both['Activity'].unique()))\n",
        "print(activity)\n",
        "act, un_act = pd.factorize( both['Activity'] )\n",
        "both['Activity'] = act\n",
        "\n",
        "def basic_details(df):\n",
        "  b = pd.DataFrame()\n",
        "  b['Missing Value'] = df.isnull().sum()\n",
        "  b['N unique value'] = df.nunique()\n",
        "  b['dtype'] = df.dtypes\n",
        "  return b\n",
        "features = len(both.drop(['Data','subject','Activity'], axis = 1).columns)\n",
        "print(features)\n",
        "bd = basic_details(both)\n",
        "activity = both['Activity']\n",
        "label_counts = activity.value_counts()\n",
        "print(label_counts)\n",
        "plt.figure(figsize=(12, 8))\n",
        "plt.bar(label_counts.index, label_counts)"
      ],
      "metadata": {
        "colab": {
          "base_uri": "https://localhost:8080/",
          "height": 867
        },
        "id": "cZ8qdzQch83i",
        "outputId": "31bc2a77-0c60-4a9b-b6ca-ce6e0417d9de"
      },
      "execution_count": null,
      "outputs": [
        {
          "output_type": "stream",
          "name": "stdout",
          "text": [
            "{0: 'STANDING', 1: 'SITTING', 2: 'LAYING', 3: 'WALKING', 4: 'WALKING_DOWNSTAIRS', 5: 'WALKING_UPSTAIRS'}\n",
            "561\n",
            "Activity\n",
            "2    1944\n",
            "0    1906\n",
            "1    1777\n",
            "3    1722\n",
            "5    1544\n",
            "4    1406\n",
            "Name: count, dtype: int64\n"
          ]
        },
        {
          "output_type": "execute_result",
          "data": {
            "text/plain": [
              "<BarContainer object of 6 artists>"
            ]
          },
          "metadata": {},
          "execution_count": 3
        },
        {
          "output_type": "display_data",
          "data": {
            "text/plain": [
              "<Figure size 1200x800 with 1 Axes>"
            ],
            "image/png": "[encoded data removed]"
          },
          "metadata": {}
        }
      ]
    },
    {
      "cell_type": "code",
      "source": [
        "def PCA( train: pd.DataFrame, test: pd.DataFrame, retvar = 0.9):\n",
        "\n",
        "  cov = train.cov().values\n",
        "  mean = train.mean(axis=0)\n",
        "  eig, vec = np.linalg.eig(cov) #Calcolo autovalori e autovettori\n",
        "  eig, vec = np.real(eig), np.real(vec)\n",
        "  order = np.argsort( -eig )\n",
        "  evals = eig[order] #Ordino per grandezza del modulo\n",
        "\n",
        "  #Conta il numero di componenti principali che superano il 99.9% di variabilità\n",
        "  d = 1 + ( np.cumsum(evals) >= retvar * np.abs(evals.sum()) ).nonzero()[0][0]\n",
        "\n",
        "  #Costruisco la matrice di cambiamento di base w di dimensione n_features X d\n",
        "  w = vec[:, order[:d]]\n",
        "  return [np.matmul( (train - mean).values, w ), np.matmul( (test - mean).values, w ),np.divide( np.cumsum(evals), evals.sum())]\n",
        "\n",
        "\n",
        "class HARDataset( Dataset ):\n",
        "\n",
        "  def __init__(self, data, transform = None, target_transform = None):\n",
        "    if not(isinstance( data, pd.DataFrame )):\n",
        "      self.data_tensor = pd.DataFrame(data)\n",
        "    else:\n",
        "      self.data_tensor = data\n",
        "    self.transform = transform\n",
        "    self.target_transform = target_transform\n",
        "\n",
        "  def __len__(self):\n",
        "    return len(self.data_tensor)\n",
        "\n",
        "  def __getitem__(self, idx):\n",
        "    if not(isinstance( self.data_tensor['Activity'], int  )):\n",
        "      act, self.un_act = pd.factorize( self.data_tensor['Activity'] )\n",
        "      self.data_tensor['Activity'] = act\n",
        "    data = torch.Tensor( self.data_tensor.drop(['Data','subject','Activity'], axis = 1).to_numpy() )\n",
        "    label = torch.Tensor( self.data_tensor['Activity'].to_numpy() )\n",
        "    return data[idx,:], label[idx]\n",
        "\n",
        "#Normalizzo l'insieme totale di valori\n",
        "norm_both = both.drop(['Data','subject','Activity'], axis = 1)\n",
        "\n",
        "mean = both.drop(['Data','subject','Activity'], axis = 1).mean(axis=0)\n",
        "var = both.drop(['Data','subject','Activity'], axis = 1).var(axis=0)\n",
        "\n",
        "norm_both.add( -mean)\n",
        "norm_both.div(var)\n",
        "\n",
        "norm_both['Activity'] = act\n",
        "\n",
        "\n",
        "#train_n = np.column_stack((train_n, np.expand_dims(train_lab, -1)))\n",
        "#test_n = np.column_stack((test_n, np.expand_dims(test_lab, -1)))\n",
        "\n",
        "\n",
        "#print(norm_both)\n",
        "\n"
      ],
      "metadata": {
        "id": "qfVqIOSMk4fl"
      },
      "execution_count": null,
      "outputs": []
    },
    {
      "cell_type": "code",
      "source": [
        "loss_list_train = []\n",
        "loss_list_test = []\n",
        "acc_list_train = []\n",
        "acc_list_test = []\n",
        "n_batch = 64\n",
        "\n",
        "#Define train and test loop\n",
        "def train_loop(dataloader, model, loss_fn, optimizer):\n",
        "  model.train()\n",
        "  size = len(dataloader.dataset)\n",
        "  for batch, (X, y) in enumerate(dataloader):\n",
        "    batch_size, correct = 0, 0\n",
        "    X, y = X.to(device), y.to(device).to(torch.long)\n",
        "    one_hot_label = nn.functional.one_hot(y, num_classes=len(label_counts))\n",
        "    #Compute prediction and loss\n",
        "    pred = model(X) #torch.argmin(model(X) , -1).to(torch.long)\n",
        "    loss = loss_fn(pred, y)\n",
        "    train_label = torch.argmin(model(X) , -1)\n",
        "    correct = (train_label==y).type(torch.int).sum().item()\n",
        "    batch_size = X.size(0)\n",
        "    correct /= batch_size\n",
        "    acc_list_train.append(correct) #Take note of the single batch accuracy\n",
        "\n",
        "    #Backpropagation\n",
        "    optimizer.zero_grad()\n",
        "    loss.backward()\n",
        "    optimizer.step()\n",
        "    loss_list_train.append(loss.item()) #\n",
        "    if batch % 10 == 0:\n",
        "      loss, current = loss.item(), batch * len(X)\n",
        "      print(f\"Funzione di loss: {loss:>7f} Errore train: \\n Accuratezza: {(100*correct):>0.1f}%, [{current:>5d}/{size:>5d}]\")\n",
        "\n",
        "\n",
        "def test_loop(dataloader, model, loss_fn):\n",
        "    model.eval()\n",
        "    size = len(dataloader.dataset)\n",
        "    num_batches = len(dataloader)\n",
        "    test_loss, correct = 0, 0\n",
        "    one_hot_label = torch.zeros(n_batch, len(label_counts))\n",
        "    with torch.no_grad():\n",
        "      for X, y in dataloader:\n",
        "        batch_size, correct_batch =0, 0\n",
        "        X, y = X.to(device), y.to(device).to(torch.long)\n",
        "        one_hot_label[:,y] = 1\n",
        "        #Compute prediction and loss\n",
        "        pred = model(X) #torch.argmin(model(X) , -1).to(torch.long)\n",
        "        loss = loss_fn(pred, y)\n",
        "        loss_list_test.append(loss.item()) #Take note of the single batch loss\n",
        "        test_loss +=loss_fn(pred, y).item()\n",
        "        test_label = torch.argmin(model(X) , -1)\n",
        "        correct += (test_label==y).type(torch.int).sum().item()\n",
        "        correct_batch = (test_label==y).type(torch.int).sum().item()\n",
        "        batch_size = X.size(0)\n",
        "        correct_batch /= batch_size\n",
        "        acc_list_test.append(correct_batch) #Take note of the batch accuracy\n",
        "\n",
        "\n",
        "    test_loss /= num_batches\n",
        "    correct /= num_batches\n",
        "    print(f\"Errore test: \\n Accuratezza: {(100*correct):>0.1f}%, Media loss: {test_loss:>8f} \\n\")\n",
        "\n",
        "#Define train and test loop\n",
        "def dev_loop(dataloader, model, loss_fn, optimizer):\n",
        "  model.train()\n",
        "  size = len(dataloader.dataset)\n",
        "  dev_loss, correct = 0.0, 0.0\n",
        "  num_batches = len(dataloader)\n",
        "  for batch, (X, y) in enumerate(dataloader):\n",
        "    batch_size, batch_correct = 0, 0\n",
        "    X, y = X.to(device), y.to(device).to(torch.long)\n",
        "    one_hot_label = nn.functional.one_hot(y, num_classes=len(label_counts))\n",
        "    #Compute prediction and loss\n",
        "    pred = model(X) #torch.argmin(model(X) , -1).to(torch.long)\n",
        "    loss = loss_fn(pred, y)\n",
        "    dev_loss += loss\n",
        "    train_label = torch.argmin(model(X) , -1)\n",
        "    batch_correct = (train_label==y).type(torch.int).sum().item()\n",
        "    correct += batch_correct\n",
        "    batch_size = X.size(0)\n",
        "    batch_correct /= batch_size\n",
        "    acc_list_train.append(correct) #Take note of the single batch accuracy\n",
        "\n",
        "    #Backpropagation\n",
        "    optimizer.zero_grad()\n",
        "    loss.backward()\n",
        "    optimizer.step()\n",
        "    loss_list_train.append(loss.item()) #\n",
        "\n",
        "  dev_loss /= num_batches\n",
        "  correct /= size\n",
        "  print(f\"Errore dev: \\n Accuratezza: {(100*correct):>0.1f}%, Media loss: {dev_loss:>8f} \\n\")\n",
        "  return correct"
      ],
      "metadata": {
        "id": "Uhq6ybs1Fx-H"
      },
      "execution_count": null,
      "outputs": []
    },
    {
      "cell_type": "code",
      "source": [
        "n_features = features\n",
        "\n",
        "class FixModel(nn.Module):\n",
        "\n",
        "  def __init__(self, n_features: int, n_hidden: int=4096, n_layers:int = 8, dropout: float=0.5):\n",
        "      super().__init__()\n",
        "      self.model_type = \"FFN\"\n",
        "      self.n_features = n_features\n",
        "      self.n_hidden = n_hidden\n",
        "      self.n_layers = n_layers\n",
        "\n",
        "      self.lin_soft_stack_1 = [nn.Sequential(\n",
        "          nn.Linear(int(n_hidden/2**(i)), int(n_hidden/2**(i+1))),\n",
        "          nn.ReLU(),\n",
        "          nn.Linear(int(n_hidden/2**(i+1)), int(n_hidden/2**(i+1))),\n",
        "          nn.ReLU(),\n",
        "          nn.Linear(int(n_hidden/2**(i+1)), int(n_hidden/2**(i+1))),\n",
        "          nn.ReLU(),\n",
        "          nn.Dropout(dropout),\n",
        "          nn.BatchNorm1d(int(n_hidden/2**(i+1)))\n",
        "      ) for i in range(self.n_layers)]\n",
        "      self.lin_soft_stack_2 = self.lin_soft_stack_1\n",
        "      self.lin_soft_stack_3 = self.lin_soft_stack_1\n",
        "\n",
        "      self.lin_soft_stack_zero = nn.Sequential(\n",
        "          nn.Linear(n_features, n_hidden),\n",
        "          nn.ReLU(),\n",
        "          nn.Linear(n_hidden, n_hidden),\n",
        "          nn.ReLU(),\n",
        "          nn.Linear(n_hidden, n_hidden),\n",
        "          nn.ReLU(),\n",
        "          nn.Dropout(dropout),\n",
        "          nn.BatchNorm1d(n_hidden)\n",
        "      )\n",
        "      self.mid_lin_stack_1 = nn.Sequential(nn.Linear(int(n_hidden/2**(self.n_layers)), int(n_hidden/2**(self.n_layers)), nn.ReLU()))\n",
        "\n",
        "      self.fin_lin_stack = nn.Sequential(nn.Linear(int(n_hidden/2**(self.n_layers)), len(un_act)), nn.Softmax(-1))\n",
        "\n",
        "  def forward(self, src: Tensor) -> Tensor:\n",
        "\n",
        "    first_input = self.lin_soft_stack_zero(src).to(device)\n",
        "    first_input = first_input + nn.Sequential(nn.Linear(self.n_features, self.n_hidden),nn.ReLU()).to(device)(src)\n",
        "\n",
        "    prec_input_first_stack = first_input\n",
        "    prec_input_second_stack = first_input\n",
        "    prec_input_third_stack = first_input\n",
        "    for i in range(self.n_layers):\n",
        "        input_first_stack = self.lin_soft_stack_1[i].to(device)(prec_input_first_stack)\n",
        "        input_first_stack = input_first_stack + nn.Sequential(nn.Linear(int(self.n_hidden/2**(i)), int(self.n_hidden/2**(i+1))),nn.ReLU()).to(device)(prec_input_first_stack)\n",
        "        prec_input_first_stack = input_first_stack\n",
        "\n",
        "        input_second_stack = self.lin_soft_stack_2[i].to(device)(prec_input_second_stack)\n",
        "        input_second_stack = input_second_stack + nn.Sequential(nn.Linear(int(self.n_hidden/2**(i)), int(self.n_hidden/2**(i+1))),nn.ReLU()).to(device)(prec_input_second_stack)\n",
        "        prec_input_second_stack = input_second_stack\n",
        "\n",
        "        input_third_stack = self.lin_soft_stack_3[i].to(device)(prec_input_third_stack)\n",
        "        input_third_stack = input_third_stack + nn.Sequential(nn.Linear(int(self.n_hidden/2**(i)), int(self.n_hidden/2**(i+1))),nn.ReLU()).to(device)(prec_input_third_stack)\n",
        "        prec_input_third_stack = input_third_stack\n",
        "\n",
        "    mid_stack = nn.Softmax(-1)(input_first_stack*input_second_stack/int(self.n_hidden/2**(self.n_layers-1))**(1/2)).to(device)*input_third_stack\n",
        "    mid_stack = self.mid_lin_stack_1(mid_stack)\n",
        "\n",
        "    output = self.fin_lin_stack(mid_stack)\n",
        "    return output\n",
        "\n",
        "model_1 = FixModel(n_features).to(device)\n",
        "\n",
        "def init_weights(m):\n",
        "    if isinstance(m, nn.Linear):\n",
        "        torch.nn.init.xavier_uniform_(m.weight).to(device)\n",
        "        m.bias.data.fill_(0.01).to(device)\n",
        "\n",
        "model_1.apply(init_weights)\n",
        "model_1.to(device)"
      ],
      "metadata": {
        "id": "0IP3EKe0qfzY",
        "colab": {
          "base_uri": "https://localhost:8080/"
        },
        "outputId": "3acb8ee9-d109-415c-e2f4-f9ad2242051e"
      },
      "execution_count": null,
      "outputs": [
        {
          "output_type": "execute_result",
          "data": {
            "text/plain": [
              "FixModel(\n",
              "  (lin_soft_stack_zero): Sequential(\n",
              "    (0): Linear(in_features=561, out_features=4096, bias=True)\n",
              "    (1): ReLU()\n",
              "    (2): Linear(in_features=4096, out_features=4096, bias=True)\n",
              "    (3): ReLU()\n",
              "    (4): Linear(in_features=4096, out_features=4096, bias=True)\n",
              "    (5): ReLU()\n",
              "    (6): Dropout(p=0.5, inplace=False)\n",
              "    (7): BatchNorm1d(4096, eps=1e-05, momentum=0.1, affine=True, track_running_stats=True)\n",
              "  )\n",
              "  (mid_lin_stack_1): Sequential(\n",
              "    (0): Linear(in_features=16, out_features=16, bias=True)\n",
              "  )\n",
              "  (fin_lin_stack): Sequential(\n",
              "    (0): Linear(in_features=16, out_features=6, bias=True)\n",
              "    (1): Softmax(dim=-1)\n",
              "  )\n",
              ")"
            ]
          },
          "metadata": {},
          "execution_count": 30
        }
      ]
    },
    {
      "cell_type": "code",
      "source": [
        "dev_frac = 0.01\n",
        "test_frac = 0.01\n",
        "train_frac = 1 - dev_frac - test_frac\n",
        "batch_size = 64\n",
        "\n",
        "#Mischio il dataframe (estraggo in maniera casuale tutte le righe del DataFrame)\n",
        "both = both.sample(n=len(both))\n",
        "\n",
        "#Creo i dataset per dev-train-set\n",
        "train = both.sample(frac=train_frac)\n",
        "test = both.sample(frac=test_frac)\n",
        "dev = both.sample(frac=dev_frac)\n",
        "\n",
        "train_dataset = HARDataset(train)\n",
        "test_dataset = HARDataset(test)\n",
        "dev_dataset = HARDataset(dev)\n",
        "\n",
        "train_dataloader = DataLoader(train_dataset, batch_size=batch_size, shuffle=True)\n",
        "test_dataloader = DataLoader(test_dataset, batch_size=batch_size, shuffle=True)\n",
        "dev_dataloader = DataLoader(dev_dataset, batch_size=batch_size, shuffle=True)\n",
        "\n",
        "#Definiamo la loss function, metodo di minimizzazione e iperparametri\n",
        "learning_rate = [10**(-i) for i in range(1,5)]\n",
        "momentum = [i/10 for i in range(10)]\n",
        "lr_mom_grid = [(l,m, 0) for l in learning_rate for m in momentum]\n",
        "\n",
        "\n",
        "loss_fn = nn.CrossEntropyLoss()\n",
        "#optimizer = torch.optim.Adam(model_1.parameters(), lr=learning_rate)\n",
        "#optimizer = torch.optim.SGD(model_1.parameters(), lr=learning_rate, momentum = momentum)\n",
        "\n",
        "for i, (l, m, a) in enumerate(lr_mom_grid):\n",
        "  print(f\"Learning rate: {l}, Momentum: {m}\")\n",
        "  optimizer = torch.optim.SGD(model_1.parameters(), lr=l, momentum = m)\n",
        "  epochs = 1\n",
        "  for t in range(epochs):\n",
        "      print(f\"Epoch {t+1}\\n-------------------------------\")\n",
        "      a += dev_loop(dev_dataloader, model_1, loss_fn, optimizer)\n",
        "\n",
        "  a /= epochs\n",
        "  lr_mom_grid[i] = (l,m, a)\n"
      ],
      "metadata": {
        "colab": {
          "base_uri": "https://localhost:8080/",
          "height": 1000
        },
        "id": "4t_LbjAkJPMP",
        "outputId": "7a1ccc4d-9dbc-4350-e748-6cc40899057f"
      },
      "execution_count": null,
      "outputs": [
        {
          "output_type": "stream",
          "name": "stdout",
          "text": [
            "Learning rate: 0.1, Momentum: 0.0\n",
            "Epoch 1\n",
            "-------------------------------\n",
            "Errore dev: \n",
            " Accuratezza: 19.4%, Media loss: 1.789362 \n",
            "\n",
            "Learning rate: 0.1, Momentum: 0.1\n",
            "Epoch 1\n",
            "-------------------------------\n",
            "Errore dev: \n",
            " Accuratezza: 20.4%, Media loss: 1.793154 \n",
            "\n",
            "Learning rate: 0.1, Momentum: 0.2\n",
            "Epoch 1\n",
            "-------------------------------\n",
            "Errore dev: \n",
            " Accuratezza: 11.7%, Media loss: 1.793347 \n",
            "\n",
            "Learning rate: 0.1, Momentum: 0.3\n",
            "Epoch 1\n",
            "-------------------------------\n",
            "Errore dev: \n",
            " Accuratezza: 11.7%, Media loss: 1.794043 \n",
            "\n",
            "Learning rate: 0.1, Momentum: 0.4\n",
            "Epoch 1\n",
            "-------------------------------\n",
            "Errore dev: \n",
            " Accuratezza: 17.5%, Media loss: 1.791581 \n",
            "\n",
            "Learning rate: 0.1, Momentum: 0.5\n",
            "Epoch 1\n",
            "-------------------------------\n",
            "Errore dev: \n",
            " Accuratezza: 17.5%, Media loss: 1.790801 \n",
            "\n",
            "Learning rate: 0.1, Momentum: 0.6\n",
            "Epoch 1\n",
            "-------------------------------\n",
            "Errore dev: \n",
            " Accuratezza: 13.6%, Media loss: 1.791884 \n",
            "\n",
            "Learning rate: 0.1, Momentum: 0.7\n",
            "Epoch 1\n",
            "-------------------------------\n",
            "Errore dev: \n",
            " Accuratezza: 19.4%, Media loss: 1.792111 \n",
            "\n",
            "Learning rate: 0.1, Momentum: 0.8\n",
            "Epoch 1\n",
            "-------------------------------\n"
          ]
        },
        {
          "output_type": "error",
          "ename": "KeyboardInterrupt",
          "evalue": "",
          "traceback": [
            "\u001b[0;31m---------------------------------------------------------------------------\u001b[0m",
            "\u001b[0;31mKeyboardInterrupt\u001b[0m                         Traceback (most recent call last)",
            "\u001b[0;32m<ipython-input-31-3f8f86c5ed8b>\u001b[0m in \u001b[0;36m<cell line: 32>\u001b[0;34m()\u001b[0m\n\u001b[1;32m     36\u001b[0m   \u001b[0;32mfor\u001b[0m \u001b[0mt\u001b[0m \u001b[0;32min\u001b[0m \u001b[0mrange\u001b[0m\u001b[0;34m(\u001b[0m\u001b[0mepochs\u001b[0m\u001b[0;34m)\u001b[0m\u001b[0;34m:\u001b[0m\u001b[0;34m\u001b[0m\u001b[0;34m\u001b[0m\u001b[0m\n\u001b[1;32m     37\u001b[0m       \u001b[0mprint\u001b[0m\u001b[0;34m(\u001b[0m\u001b[0;34mf\"Epoch {t+1}\\n-------------------------------\"\u001b[0m\u001b[0;34m)\u001b[0m\u001b[0;34m\u001b[0m\u001b[0;34m\u001b[0m\u001b[0m\n\u001b[0;32m---> 38\u001b[0;31m       \u001b[0ma\u001b[0m \u001b[0;34m+=\u001b[0m \u001b[0mdev_loop\u001b[0m\u001b[0;34m(\u001b[0m\u001b[0mdev_dataloader\u001b[0m\u001b[0;34m,\u001b[0m \u001b[0mmodel_1\u001b[0m\u001b[0;34m,\u001b[0m \u001b[0mloss_fn\u001b[0m\u001b[0;34m,\u001b[0m \u001b[0moptimizer\u001b[0m\u001b[0;34m)\u001b[0m\u001b[0;34m\u001b[0m\u001b[0;34m\u001b[0m\u001b[0m\n\u001b[0m\u001b[1;32m     39\u001b[0m \u001b[0;34m\u001b[0m\u001b[0m\n\u001b[1;32m     40\u001b[0m   \u001b[0ma\u001b[0m \u001b[0;34m/=\u001b[0m \u001b[0mepochs\u001b[0m\u001b[0;34m\u001b[0m\u001b[0;34m\u001b[0m\u001b[0m\n",
            "\u001b[0;32m<ipython-input-28-f1b94365d11b>\u001b[0m in \u001b[0;36mdev_loop\u001b[0;34m(dataloader, model, loss_fn, optimizer)\u001b[0m\n\u001b[1;32m     74\u001b[0m     \u001b[0mloss\u001b[0m \u001b[0;34m=\u001b[0m \u001b[0mloss_fn\u001b[0m\u001b[0;34m(\u001b[0m\u001b[0mpred\u001b[0m\u001b[0;34m,\u001b[0m \u001b[0my\u001b[0m\u001b[0;34m)\u001b[0m\u001b[0;34m\u001b[0m\u001b[0;34m\u001b[0m\u001b[0m\n\u001b[1;32m     75\u001b[0m     \u001b[0mdev_loss\u001b[0m \u001b[0;34m+=\u001b[0m \u001b[0mloss\u001b[0m\u001b[0;34m\u001b[0m\u001b[0;34m\u001b[0m\u001b[0m\n\u001b[0;32m---> 76\u001b[0;31m     \u001b[0mtrain_label\u001b[0m \u001b[0;34m=\u001b[0m \u001b[0mtorch\u001b[0m\u001b[0;34m.\u001b[0m\u001b[0margmin\u001b[0m\u001b[0;34m(\u001b[0m\u001b[0mmodel\u001b[0m\u001b[0;34m(\u001b[0m\u001b[0mX\u001b[0m\u001b[0;34m)\u001b[0m \u001b[0;34m,\u001b[0m \u001b[0;34m-\u001b[0m\u001b[0;36m1\u001b[0m\u001b[0;34m)\u001b[0m\u001b[0;34m\u001b[0m\u001b[0;34m\u001b[0m\u001b[0m\n\u001b[0m\u001b[1;32m     77\u001b[0m     \u001b[0mbatch_correct\u001b[0m \u001b[0;34m=\u001b[0m \u001b[0;34m(\u001b[0m\u001b[0mtrain_label\u001b[0m\u001b[0;34m==\u001b[0m\u001b[0my\u001b[0m\u001b[0;34m)\u001b[0m\u001b[0;34m.\u001b[0m\u001b[0mtype\u001b[0m\u001b[0;34m(\u001b[0m\u001b[0mtorch\u001b[0m\u001b[0;34m.\u001b[0m\u001b[0mint\u001b[0m\u001b[0;34m)\u001b[0m\u001b[0;34m.\u001b[0m\u001b[0msum\u001b[0m\u001b[0;34m(\u001b[0m\u001b[0;34m)\u001b[0m\u001b[0;34m.\u001b[0m\u001b[0mitem\u001b[0m\u001b[0;34m(\u001b[0m\u001b[0;34m)\u001b[0m\u001b[0;34m\u001b[0m\u001b[0;34m\u001b[0m\u001b[0m\n\u001b[1;32m     78\u001b[0m     \u001b[0mcorrect\u001b[0m \u001b[0;34m+=\u001b[0m \u001b[0mbatch_correct\u001b[0m\u001b[0;34m\u001b[0m\u001b[0;34m\u001b[0m\u001b[0m\n",
            "\u001b[0;32m/usr/local/lib/python3.10/dist-packages/torch/nn/modules/module.py\u001b[0m in \u001b[0;36m_wrapped_call_impl\u001b[0;34m(self, *args, **kwargs)\u001b[0m\n\u001b[1;32m   1530\u001b[0m             \u001b[0;32mreturn\u001b[0m \u001b[0mself\u001b[0m\u001b[0;34m.\u001b[0m\u001b[0m_compiled_call_impl\u001b[0m\u001b[0;34m(\u001b[0m\u001b[0;34m*\u001b[0m\u001b[0margs\u001b[0m\u001b[0;34m,\u001b[0m \u001b[0;34m**\u001b[0m\u001b[0mkwargs\u001b[0m\u001b[0;34m)\u001b[0m  \u001b[0;31m# type: ignore[misc]\u001b[0m\u001b[0;34m\u001b[0m\u001b[0;34m\u001b[0m\u001b[0m\n\u001b[1;32m   1531\u001b[0m         \u001b[0;32melse\u001b[0m\u001b[0;34m:\u001b[0m\u001b[0;34m\u001b[0m\u001b[0;34m\u001b[0m\u001b[0m\n\u001b[0;32m-> 1532\u001b[0;31m             \u001b[0;32mreturn\u001b[0m \u001b[0mself\u001b[0m\u001b[0;34m.\u001b[0m\u001b[0m_call_impl\u001b[0m\u001b[0;34m(\u001b[0m\u001b[0;34m*\u001b[0m\u001b[0margs\u001b[0m\u001b[0;34m,\u001b[0m \u001b[0;34m**\u001b[0m\u001b[0mkwargs\u001b[0m\u001b[0;34m)\u001b[0m\u001b[0;34m\u001b[0m\u001b[0;34m\u001b[0m\u001b[0m\n\u001b[0m\u001b[1;32m   1533\u001b[0m \u001b[0;34m\u001b[0m\u001b[0m\n\u001b[1;32m   1534\u001b[0m     \u001b[0;32mdef\u001b[0m \u001b[0m_call_impl\u001b[0m\u001b[0;34m(\u001b[0m\u001b[0mself\u001b[0m\u001b[0;34m,\u001b[0m \u001b[0;34m*\u001b[0m\u001b[0margs\u001b[0m\u001b[0;34m,\u001b[0m \u001b[0;34m**\u001b[0m\u001b[0mkwargs\u001b[0m\u001b[0;34m)\u001b[0m\u001b[0;34m:\u001b[0m\u001b[0;34m\u001b[0m\u001b[0;34m\u001b[0m\u001b[0m\n",
            "\u001b[0;32m/usr/local/lib/python3.10/dist-packages/torch/nn/modules/module.py\u001b[0m in \u001b[0;36m_call_impl\u001b[0;34m(self, *args, **kwargs)\u001b[0m\n\u001b[1;32m   1539\u001b[0m                 \u001b[0;32mor\u001b[0m \u001b[0m_global_backward_pre_hooks\u001b[0m \u001b[0;32mor\u001b[0m \u001b[0m_global_backward_hooks\u001b[0m\u001b[0;34m\u001b[0m\u001b[0;34m\u001b[0m\u001b[0m\n\u001b[1;32m   1540\u001b[0m                 or _global_forward_hooks or _global_forward_pre_hooks):\n\u001b[0;32m-> 1541\u001b[0;31m             \u001b[0;32mreturn\u001b[0m \u001b[0mforward_call\u001b[0m\u001b[0;34m(\u001b[0m\u001b[0;34m*\u001b[0m\u001b[0margs\u001b[0m\u001b[0;34m,\u001b[0m \u001b[0;34m**\u001b[0m\u001b[0mkwargs\u001b[0m\u001b[0;34m)\u001b[0m\u001b[0;34m\u001b[0m\u001b[0;34m\u001b[0m\u001b[0m\n\u001b[0m\u001b[1;32m   1542\u001b[0m \u001b[0;34m\u001b[0m\u001b[0m\n\u001b[1;32m   1543\u001b[0m         \u001b[0;32mtry\u001b[0m\u001b[0;34m:\u001b[0m\u001b[0;34m\u001b[0m\u001b[0;34m\u001b[0m\u001b[0m\n",
            "\u001b[0;32m<ipython-input-30-fb21dab37793>\u001b[0m in \u001b[0;36mforward\u001b[0;34m(self, src)\u001b[0m\n\u001b[1;32m     55\u001b[0m \u001b[0;34m\u001b[0m\u001b[0m\n\u001b[1;32m     56\u001b[0m         \u001b[0minput_third_stack\u001b[0m \u001b[0;34m=\u001b[0m \u001b[0mself\u001b[0m\u001b[0;34m.\u001b[0m\u001b[0mlin_soft_stack_3\u001b[0m\u001b[0;34m[\u001b[0m\u001b[0mi\u001b[0m\u001b[0;34m]\u001b[0m\u001b[0;34m.\u001b[0m\u001b[0mto\u001b[0m\u001b[0;34m(\u001b[0m\u001b[0mdevice\u001b[0m\u001b[0;34m)\u001b[0m\u001b[0;34m(\u001b[0m\u001b[0mprec_input_third_stack\u001b[0m\u001b[0;34m)\u001b[0m\u001b[0;34m\u001b[0m\u001b[0;34m\u001b[0m\u001b[0m\n\u001b[0;32m---> 57\u001b[0;31m         \u001b[0minput_third_stack\u001b[0m \u001b[0;34m=\u001b[0m \u001b[0minput_third_stack\u001b[0m \u001b[0;34m+\u001b[0m \u001b[0mnn\u001b[0m\u001b[0;34m.\u001b[0m\u001b[0mSequential\u001b[0m\u001b[0;34m(\u001b[0m\u001b[0mnn\u001b[0m\u001b[0;34m.\u001b[0m\u001b[0mLinear\u001b[0m\u001b[0;34m(\u001b[0m\u001b[0mint\u001b[0m\u001b[0;34m(\u001b[0m\u001b[0mself\u001b[0m\u001b[0;34m.\u001b[0m\u001b[0mn_hidden\u001b[0m\u001b[0;34m/\u001b[0m\u001b[0;36m2\u001b[0m\u001b[0;34m**\u001b[0m\u001b[0;34m(\u001b[0m\u001b[0mi\u001b[0m\u001b[0;34m)\u001b[0m\u001b[0;34m)\u001b[0m\u001b[0;34m,\u001b[0m \u001b[0mint\u001b[0m\u001b[0;34m(\u001b[0m\u001b[0mself\u001b[0m\u001b[0;34m.\u001b[0m\u001b[0mn_hidden\u001b[0m\u001b[0;34m/\u001b[0m\u001b[0;36m2\u001b[0m\u001b[0;34m**\u001b[0m\u001b[0;34m(\u001b[0m\u001b[0mi\u001b[0m\u001b[0;34m+\u001b[0m\u001b[0;36m1\u001b[0m\u001b[0;34m)\u001b[0m\u001b[0;34m)\u001b[0m\u001b[0;34m)\u001b[0m\u001b[0;34m,\u001b[0m\u001b[0mnn\u001b[0m\u001b[0;34m.\u001b[0m\u001b[0mReLU\u001b[0m\u001b[0;34m(\u001b[0m\u001b[0;34m)\u001b[0m\u001b[0;34m)\u001b[0m\u001b[0;34m.\u001b[0m\u001b[0mto\u001b[0m\u001b[0;34m(\u001b[0m\u001b[0mdevice\u001b[0m\u001b[0;34m)\u001b[0m\u001b[0;34m(\u001b[0m\u001b[0mprec_input_third_stack\u001b[0m\u001b[0;34m)\u001b[0m\u001b[0;34m\u001b[0m\u001b[0;34m\u001b[0m\u001b[0m\n\u001b[0m\u001b[1;32m     58\u001b[0m         \u001b[0mprec_input_third_stack\u001b[0m \u001b[0;34m=\u001b[0m \u001b[0minput_third_stack\u001b[0m\u001b[0;34m\u001b[0m\u001b[0;34m\u001b[0m\u001b[0m\n\u001b[1;32m     59\u001b[0m \u001b[0;34m\u001b[0m\u001b[0m\n",
            "\u001b[0;32m/usr/local/lib/python3.10/dist-packages/torch/nn/modules/linear.py\u001b[0m in \u001b[0;36m__init__\u001b[0;34m(self, in_features, out_features, bias, device, dtype)\u001b[0m\n\u001b[1;32m    101\u001b[0m         \u001b[0;32melse\u001b[0m\u001b[0;34m:\u001b[0m\u001b[0;34m\u001b[0m\u001b[0;34m\u001b[0m\u001b[0m\n\u001b[1;32m    102\u001b[0m             \u001b[0mself\u001b[0m\u001b[0;34m.\u001b[0m\u001b[0mregister_parameter\u001b[0m\u001b[0;34m(\u001b[0m\u001b[0;34m'bias'\u001b[0m\u001b[0;34m,\u001b[0m \u001b[0;32mNone\u001b[0m\u001b[0;34m)\u001b[0m\u001b[0;34m\u001b[0m\u001b[0;34m\u001b[0m\u001b[0m\n\u001b[0;32m--> 103\u001b[0;31m         \u001b[0mself\u001b[0m\u001b[0;34m.\u001b[0m\u001b[0mreset_parameters\u001b[0m\u001b[0;34m(\u001b[0m\u001b[0;34m)\u001b[0m\u001b[0;34m\u001b[0m\u001b[0;34m\u001b[0m\u001b[0m\n\u001b[0m\u001b[1;32m    104\u001b[0m \u001b[0;34m\u001b[0m\u001b[0m\n\u001b[1;32m    105\u001b[0m     \u001b[0;32mdef\u001b[0m \u001b[0mreset_parameters\u001b[0m\u001b[0;34m(\u001b[0m\u001b[0mself\u001b[0m\u001b[0;34m)\u001b[0m \u001b[0;34m->\u001b[0m \u001b[0;32mNone\u001b[0m\u001b[0;34m:\u001b[0m\u001b[0;34m\u001b[0m\u001b[0;34m\u001b[0m\u001b[0m\n",
            "\u001b[0;32m/usr/local/lib/python3.10/dist-packages/torch/nn/modules/linear.py\u001b[0m in \u001b[0;36mreset_parameters\u001b[0;34m(self)\u001b[0m\n\u001b[1;32m    107\u001b[0m         \u001b[0;31m# uniform(-1/sqrt(in_features), 1/sqrt(in_features)). For details, see\u001b[0m\u001b[0;34m\u001b[0m\u001b[0;34m\u001b[0m\u001b[0m\n\u001b[1;32m    108\u001b[0m         \u001b[0;31m# https://github.com/pytorch/pytorch/issues/57109\u001b[0m\u001b[0;34m\u001b[0m\u001b[0;34m\u001b[0m\u001b[0m\n\u001b[0;32m--> 109\u001b[0;31m         \u001b[0minit\u001b[0m\u001b[0;34m.\u001b[0m\u001b[0mkaiming_uniform_\u001b[0m\u001b[0;34m(\u001b[0m\u001b[0mself\u001b[0m\u001b[0;34m.\u001b[0m\u001b[0mweight\u001b[0m\u001b[0;34m,\u001b[0m \u001b[0ma\u001b[0m\u001b[0;34m=\u001b[0m\u001b[0mmath\u001b[0m\u001b[0;34m.\u001b[0m\u001b[0msqrt\u001b[0m\u001b[0;34m(\u001b[0m\u001b[0;36m5\u001b[0m\u001b[0;34m)\u001b[0m\u001b[0;34m)\u001b[0m\u001b[0;34m\u001b[0m\u001b[0;34m\u001b[0m\u001b[0m\n\u001b[0m\u001b[1;32m    110\u001b[0m         \u001b[0;32mif\u001b[0m \u001b[0mself\u001b[0m\u001b[0;34m.\u001b[0m\u001b[0mbias\u001b[0m \u001b[0;32mis\u001b[0m \u001b[0;32mnot\u001b[0m \u001b[0;32mNone\u001b[0m\u001b[0;34m:\u001b[0m\u001b[0;34m\u001b[0m\u001b[0;34m\u001b[0m\u001b[0m\n\u001b[1;32m    111\u001b[0m             \u001b[0mfan_in\u001b[0m\u001b[0;34m,\u001b[0m \u001b[0m_\u001b[0m \u001b[0;34m=\u001b[0m \u001b[0minit\u001b[0m\u001b[0;34m.\u001b[0m\u001b[0m_calculate_fan_in_and_fan_out\u001b[0m\u001b[0;34m(\u001b[0m\u001b[0mself\u001b[0m\u001b[0;34m.\u001b[0m\u001b[0mweight\u001b[0m\u001b[0;34m)\u001b[0m\u001b[0;34m\u001b[0m\u001b[0;34m\u001b[0m\u001b[0m\n",
            "\u001b[0;32m/usr/local/lib/python3.10/dist-packages/torch/nn/init.py\u001b[0m in \u001b[0;36mkaiming_uniform_\u001b[0;34m(tensor, a, mode, nonlinearity, generator)\u001b[0m\n\u001b[1;32m    457\u001b[0m     \u001b[0mbound\u001b[0m \u001b[0;34m=\u001b[0m \u001b[0mmath\u001b[0m\u001b[0;34m.\u001b[0m\u001b[0msqrt\u001b[0m\u001b[0;34m(\u001b[0m\u001b[0;36m3.0\u001b[0m\u001b[0;34m)\u001b[0m \u001b[0;34m*\u001b[0m \u001b[0mstd\u001b[0m  \u001b[0;31m# Calculate uniform bounds from standard deviation\u001b[0m\u001b[0;34m\u001b[0m\u001b[0;34m\u001b[0m\u001b[0m\n\u001b[1;32m    458\u001b[0m     \u001b[0;32mwith\u001b[0m \u001b[0mtorch\u001b[0m\u001b[0;34m.\u001b[0m\u001b[0mno_grad\u001b[0m\u001b[0;34m(\u001b[0m\u001b[0;34m)\u001b[0m\u001b[0;34m:\u001b[0m\u001b[0;34m\u001b[0m\u001b[0;34m\u001b[0m\u001b[0m\n\u001b[0;32m--> 459\u001b[0;31m         \u001b[0;32mreturn\u001b[0m \u001b[0mtensor\u001b[0m\u001b[0;34m.\u001b[0m\u001b[0muniform_\u001b[0m\u001b[0;34m(\u001b[0m\u001b[0;34m-\u001b[0m\u001b[0mbound\u001b[0m\u001b[0;34m,\u001b[0m \u001b[0mbound\u001b[0m\u001b[0;34m,\u001b[0m \u001b[0mgenerator\u001b[0m\u001b[0;34m=\u001b[0m\u001b[0mgenerator\u001b[0m\u001b[0;34m)\u001b[0m\u001b[0;34m\u001b[0m\u001b[0;34m\u001b[0m\u001b[0m\n\u001b[0m\u001b[1;32m    460\u001b[0m \u001b[0;34m\u001b[0m\u001b[0m\n\u001b[1;32m    461\u001b[0m \u001b[0;34m\u001b[0m\u001b[0m\n",
            "\u001b[0;31mKeyboardInterrupt\u001b[0m: "
          ]
        }
      ]
    },
    {
      "cell_type": "markdown",
      "source": [
        "As we can see the development accuracy doesn't reach 20% despite the model complexity. The classsification using a multilayer perceptron is a failure"
      ],
      "metadata": {
        "id": "DdvuxKHnlC7f"
      }
    }
  ]
}